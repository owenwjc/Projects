{
 "cells": [
  {
   "cell_type": "code",
   "execution_count": 1,
   "metadata": {},
   "outputs": [],
   "source": [
    "import pymongo\n",
    "from pymongo import MongoClient\n",
    "import pandas as pd\n",
    "import praw"
   ]
  },
  {
   "cell_type": "code",
   "execution_count": 3,
   "metadata": {},
   "outputs": [],
   "source": [
    "client = MongoClient('localhost', 27017)\n",
    "db = client.db\n",
    "headlines = db.headlines\n",
    "threads = db.threads\n",
    "analysis = db.analysis"
   ]
  },
  {
   "cell_type": "code",
   "execution_count": 4,
   "metadata": {},
   "outputs": [],
   "source": [
    "df = pd.read_csv('companylist.csv')"
   ]
  },
  {
   "cell_type": "code",
   "execution_count": 6,
   "metadata": {},
   "outputs": [
    {
     "data": {
      "text/plain": [
       "0        $12.54B\n",
       "1       $458.74M\n",
       "2        $26.52M\n",
       "3            NaN\n",
       "4        $62.55M\n",
       "          ...   \n",
       "3698     $16.77B\n",
       "3699    $723.66M\n",
       "3700    $103.86M\n",
       "3701    $537.59M\n",
       "3702      $8.98B\n",
       "Name: MarketCap, Length: 3703, dtype: object"
      ]
     },
     "execution_count": 6,
     "metadata": {},
     "output_type": "execute_result"
    }
   ],
   "source": [
    "df['MarketCap']"
   ]
  },
  {
   "cell_type": "code",
   "execution_count": 2,
   "metadata": {},
   "outputs": [],
   "source": [
    "reddit = praw.Reddit(client_id='-wpcPIbA7bhlpw', client_secret='', user_agent='sentiment')"
   ]
  },
  {
   "cell_type": "code",
   "execution_count": 3,
   "metadata": {},
   "outputs": [
    {
     "name": "stdout",
     "output_type": "stream",
     "text": [
      "[D] Simple Questions Thread September 13, 2020\n",
      "[D] Machine Learning - WAYR (What Are You Reading) - Week 95\n",
      "[D] RTX 3090, RTX 3080, RTX 3070 Deep Learning Workstation Guide\n",
      "[R] Microsoft Democratizes DeepSpeed With Four New Technologies\n",
      "[D] Visualizing deep recurrent architectures\n",
      "[D] How does Google achieve instant TTS if they use Tacotron2 and WaveNet?\n",
      "[D] What is the correct way to embed a graph with multiple edge types?\n",
      "[P] My (Non-monetised, Ad-free) ML Hero Interview Podcast reaches 100 Episodes today\n",
      "[R] Lipschitz constant estimation of neural networks via sparse polynomial optimization\n",
      "[D] Applications of Advanced Undergraduate Mathematics Coursework to Machine Learning\n"
     ]
    }
   ],
   "source": [
    "hot_posts = reddit.subreddit('MachineLearning').hot(limit=10)\n",
    "for post in hot_posts:\n",
    "    print(post.title)"
   ]
  },
  {
   "cell_type": "code",
   "execution_count": null,
   "metadata": {},
   "outputs": [],
   "source": []
  }
 ],
 "metadata": {
  "kernelspec": {
   "display_name": "Python 3",
   "language": "python",
   "name": "python3"
  },
  "language_info": {
   "codemirror_mode": {
    "name": "ipython",
    "version": 3
   },
   "file_extension": ".py",
   "mimetype": "text/x-python",
   "name": "python",
   "nbconvert_exporter": "python",
   "pygments_lexer": "ipython3",
   "version": "3.7.4"
  }
 },
 "nbformat": 4,
 "nbformat_minor": 2
}
