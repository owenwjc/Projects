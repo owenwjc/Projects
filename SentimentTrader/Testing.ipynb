{
 "cells": [
  {
   "cell_type": "code",
   "execution_count": 1,
   "metadata": {},
   "outputs": [],
   "source": [
    "import pymongo\n",
    "from pymongo import MongoClient\n",
    "import pandas as pd\n",
    "import praw\n",
    "import time\n",
    "import datetime\n",
    "from datetime import datetime, timedelta"
   ]
  },
  {
   "cell_type": "code",
   "execution_count": 2,
   "metadata": {},
   "outputs": [],
   "source": [
    "client = MongoClient('localhost', 27017)\n",
    "db = client.db\n",
    "headlines = db.headlines\n",
    "threads = db.threads\n",
    "analysis = db.analysis"
   ]
  },
  {
   "cell_type": "code",
   "execution_count": 3,
   "metadata": {},
   "outputs": [],
   "source": [
    "df = pd.read_csv('companylist.csv')"
   ]
  },
  {
   "cell_type": "code",
   "execution_count": 4,
   "metadata": {},
   "outputs": [],
   "source": [
    "secretfile = open('secret.txt')\n",
    "reddit = praw.Reddit(client_id='-wpcPIbA7bhlpw', client_secret=secretfile.read(), user_agent='sentiment')"
   ]
  },
  {
   "cell_type": "code",
   "execution_count": 5,
   "metadata": {},
   "outputs": [],
   "source": [
    "wantedTags = ['Daily Discussion', 'DD', 'Technicals', 'Fundamentals', 'Discussion', 'YOLO', 'Stocks']\n",
    "subreddit = reddit.subreddit('wallstreetbets')\n",
    "postlist = []\n",
    "\n",
    "for post in subreddit.hot(limit = 1000):\n",
    "    if datetime.today().weekday == 0:\n",
    "        if len(postlist) < 100:\n",
    "            postTime = post.created\n",
    "            postDate = datetime.utcfromtimestamp(postTime)\n",
    "            \n",
    "            currentTime = datetime.utcnow()\n",
    "            \n",
    "            postDelta = currentTime - postDate\n",
    "\n",
    "            if postDelta.days < 3 and post.link_flair_text in wantedTags:\n",
    "                postlist.append(post)\n",
    "        else:\n",
    "            break\n",
    "    \n",
    "    else:\n",
    "        if len(postlist) < 100:\n",
    "            postTime = post.created\n",
    "            postDate = datetime.utcfromtimestamp(postTime)\n",
    "\n",
    "            currentTime = datetime.utcnow()\n",
    "\n",
    "            postDelta = currentTime - postDate\n",
    "            postDelta = str(postDelta)\n",
    "\n",
    "            if 'day' not in postDelta and post.link_flair_text in wantedTags:\n",
    "                postlist.append(post)\n",
    "        else:\n",
    "            break"
   ]
  },
  {
   "cell_type": "code",
   "execution_count": 6,
   "metadata": {},
   "outputs": [],
   "source": [
    "postDf = pd.DataFrame(columns = ['Date','Title','Body'])"
   ]
  },
  {
   "cell_type": "code",
   "execution_count": 7,
   "metadata": {},
   "outputs": [],
   "source": [
    "dates = '{}/{}/{}'.format(currentTime.month,currentTime.day,currentTime.year)\n",
    "titles = [post.title for post in postlist]\n",
    "bodies = [post.selftext for post in postlist]\n",
    "tags = [post.link_flair_text for post in postlist]"
   ]
  },
  {
   "cell_type": "code",
   "execution_count": 8,
   "metadata": {},
   "outputs": [],
   "source": [
    "postDf['Title'] = titles\n",
    "postDf['Body'] = bodies\n",
    "postDf['Date'] = dates\n",
    "postDf['Tag'] = tags"
   ]
  },
  {
   "cell_type": "code",
   "execution_count": 9,
   "metadata": {},
   "outputs": [],
   "source": [
    "stocklist = df['Symbol']"
   ]
  },
  {
   "cell_type": "code",
   "execution_count": 10,
   "metadata": {},
   "outputs": [],
   "source": [
    "stocklist\n",
    "stocklistcopy = ['$'+stocklist]\n",
    "stocklist = stocklist.append(stocklistcopy).tolist()"
   ]
  },
  {
   "cell_type": "code",
   "execution_count": 31,
   "metadata": {},
   "outputs": [],
   "source": [
    "def findStocks(string):\n",
    "    stockset = set(string.split()).intersection(stocklist)\n",
    "    return stockset"
   ]
  },
  {
   "cell_type": "code",
   "execution_count": 41,
   "metadata": {},
   "outputs": [],
   "source": [
    "postDf['set1'] = postDf['Body'].apply(findStocksBody)\n",
    "postDf['set2'] = postDf['Title'].apply(findStocksBody)\n",
    "postDf['Stocks'] = postDf.apply(lambda x: x['set1'].union(x['set2']), axis = 1)\n",
    "postDf.drop(columns = ['set1','set2'])"
   ]
  }
 ],
 "metadata": {
  "kernelspec": {
   "display_name": "Python 3",
   "language": "python",
   "name": "python3"
  },
  "language_info": {
   "codemirror_mode": {
    "name": "ipython",
    "version": 3
   },
   "file_extension": ".py",
   "mimetype": "text/x-python",
   "name": "python",
   "nbconvert_exporter": "python",
   "pygments_lexer": "ipython3",
   "version": "3.7.4"
  }
 },
 "nbformat": 4,
 "nbformat_minor": 4
}
