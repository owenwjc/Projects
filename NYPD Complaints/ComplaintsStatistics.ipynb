{
 "cells": [
  {
   "cell_type": "code",
   "execution_count": 63,
   "metadata": {},
   "outputs": [],
   "source": [
    "import numpy as np\n",
    "import pandas as pd\n",
    "import matplotlib.pyplot as plt\n",
    "import altair as alt"
   ]
  },
  {
   "cell_type": "code",
   "execution_count": 64,
   "metadata": {},
   "outputs": [
    {
     "data": {
      "text/plain": [
       "RendererRegistry.enable('notebook')"
      ]
     },
     "execution_count": 64,
     "metadata": {},
     "output_type": "execute_result"
    }
   ],
   "source": [
    "alt.renderers.enable('notebook')"
   ]
  },
  {
   "cell_type": "code",
   "execution_count": 65,
   "metadata": {},
   "outputs": [],
   "source": [
    "df = pd.read_csv('Complaints.csv')"
   ]
  },
  {
   "cell_type": "code",
   "execution_count": 66,
   "metadata": {},
   "outputs": [],
   "source": [
    "precincts = pd.DataFrame(columns = ['precinct'])"
   ]
  },
  {
   "cell_type": "code",
   "execution_count": 67,
   "metadata": {},
   "outputs": [],
   "source": [
    "precincts['precinct'] = np.sort(df['precinct'].unique())"
   ]
  },
  {
   "cell_type": "code",
   "execution_count": 68,
   "metadata": {},
   "outputs": [],
   "source": [
    "precincts = precincts.join(df.groupby(['precinct']).size().to_frame(name = 'Number of Complaints'),on = 'precinct')"
   ]
  },
  {
   "cell_type": "code",
   "execution_count": 69,
   "metadata": {},
   "outputs": [],
   "source": [
    "precincts.loc[12]['Number of Complaints'] = precincts.loc[12]['Number of Complaints'] + precincts.loc[77]['Number of Complaints']"
   ]
  },
  {
   "cell_type": "code",
   "execution_count": 70,
   "metadata": {},
   "outputs": [],
   "source": [
    "precincts = precincts.drop([77])"
   ]
  },
  {
   "cell_type": "code",
   "execution_count": 71,
   "metadata": {},
   "outputs": [],
   "source": [
    "keys = precincts['precinct'].unique()"
   ]
  },
  {
   "cell_type": "code",
   "execution_count": 72,
   "metadata": {},
   "outputs": [],
   "source": [
    "values = [190,141,164,142,178,162,190,307,141,294,207,\n",
    "         149,120,176,156,210,134,167,142,205,191,201,\n",
    "         284,186,221,293,358,174,306,280,252,193,133,\n",
    "         282,202,167,154,155,138,333,138,161,303,216,\n",
    "         179,275,399,139,235,198,247,197,209,221,155,\n",
    "         185,142,145,206,209,254,182,310,225,197,148,\n",
    "         292,211,153,144,236,261,234,311,196,195,144]"
   ]
  },
  {
   "cell_type": "code",
   "execution_count": 73,
   "metadata": {},
   "outputs": [],
   "source": [
    "UniformedDict = dict(zip(keys,values))\n",
    "def amtUniformed(precinct):\n",
    "    return UniformedDict[precinct]"
   ]
  },
  {
   "cell_type": "code",
   "execution_count": 74,
   "metadata": {},
   "outputs": [],
   "source": [
    "precincts['Uniformed Officers'] = precincts['precinct']"
   ]
  },
  {
   "cell_type": "code",
   "execution_count": 75,
   "metadata": {},
   "outputs": [],
   "source": [
    "precincts['Uniformed Officers'] = precincts['Uniformed Officers'].apply(amtUniformed)"
   ]
  },
  {
   "cell_type": "code",
   "execution_count": 88,
   "metadata": {},
   "outputs": [],
   "source": [
    "precincts['Normalize'] = precincts['Number of Complaints'] / precincts['Uniformed Officers']"
   ]
  },
  {
   "cell_type": "code",
   "execution_count": 89,
   "metadata": {},
   "outputs": [
    {
     "data": {
      "application/javascript": [
       "const spec = {\"config\": {\"view\": {\"width\": 400, \"height\": 300}, \"mark\": {\"tooltip\": null}}, \"data\": {\"name\": \"data-e2d96beaf767d53ef5e54011acb3b2fb\"}, \"mark\": \"bar\", \"encoding\": {\"x\": {\"type\": \"quantitative\", \"field\": \"precinct\"}, \"y\": {\"type\": \"quantitative\", \"field\": \"Normalize\"}}, \"$schema\": \"https://vega.github.io/schema/vega-lite/v3.4.0.json\", \"datasets\": {\"data-e2d96beaf767d53ef5e54011acb3b2fb\": [{\"precinct\": 1, \"Number of Complaints\": 174, \"Uniformed Officers\": 190, \"Normalize\": 0.9157894736842105}, {\"precinct\": 5, \"Number of Complaints\": 160, \"Uniformed Officers\": 141, \"Normalize\": 1.1347517730496455}, {\"precinct\": 6, \"Number of Complaints\": 175, \"Uniformed Officers\": 164, \"Normalize\": 1.0670731707317074}, {\"precinct\": 7, \"Number of Complaints\": 221, \"Uniformed Officers\": 142, \"Normalize\": 1.556338028169014}, {\"precinct\": 9, \"Number of Complaints\": 266, \"Uniformed Officers\": 178, \"Normalize\": 1.4943820224719102}, {\"precinct\": 10, \"Number of Complaints\": 241, \"Uniformed Officers\": 162, \"Normalize\": 1.4876543209876543}, {\"precinct\": 13, \"Number of Complaints\": 152, \"Uniformed Officers\": 190, \"Normalize\": 0.8}, {\"precinct\": 14, \"Number of Complaints\": 351, \"Uniformed Officers\": 307, \"Normalize\": 1.1433224755700326}, {\"precinct\": 17, \"Number of Complaints\": 76, \"Uniformed Officers\": 141, \"Normalize\": 0.5390070921985816}, {\"precinct\": 18, \"Number of Complaints\": 268, \"Uniformed Officers\": 294, \"Normalize\": 0.9115646258503401}, {\"precinct\": 19, \"Number of Complaints\": 167, \"Uniformed Officers\": 207, \"Normalize\": 0.8067632850241546}, {\"precinct\": 20, \"Number of Complaints\": 112, \"Uniformed Officers\": 149, \"Normalize\": 0.7516778523489933}, {\"precinct\": 22, \"Number of Complaints\": 15, \"Uniformed Officers\": 120, \"Normalize\": 0.125}, {\"precinct\": 23, \"Number of Complaints\": 610, \"Uniformed Officers\": 176, \"Normalize\": 3.465909090909091}, {\"precinct\": 24, \"Number of Complaints\": 205, \"Uniformed Officers\": 156, \"Normalize\": 1.314102564102564}, {\"precinct\": 25, \"Number of Complaints\": 614, \"Uniformed Officers\": 210, \"Normalize\": 2.9238095238095236}, {\"precinct\": 26, \"Number of Complaints\": 158, \"Uniformed Officers\": 134, \"Normalize\": 1.1791044776119404}, {\"precinct\": 28, \"Number of Complaints\": 344, \"Uniformed Officers\": 167, \"Normalize\": 2.059880239520958}, {\"precinct\": 30, \"Number of Complaints\": 328, \"Uniformed Officers\": 142, \"Normalize\": 2.3098591549295775}, {\"precinct\": 32, \"Number of Complaints\": 684, \"Uniformed Officers\": 205, \"Normalize\": 3.3365853658536584}, {\"precinct\": 33, \"Number of Complaints\": 272, \"Uniformed Officers\": 191, \"Normalize\": 1.4240837696335078}, {\"precinct\": 34, \"Number of Complaints\": 400, \"Uniformed Officers\": 201, \"Normalize\": 1.9900497512437811}, {\"precinct\": 40, \"Number of Complaints\": 1009, \"Uniformed Officers\": 284, \"Normalize\": 3.5528169014084505}, {\"precinct\": 41, \"Number of Complaints\": 512, \"Uniformed Officers\": 186, \"Normalize\": 2.752688172043011}, {\"precinct\": 42, \"Number of Complaints\": 653, \"Uniformed Officers\": 221, \"Normalize\": 2.9547511312217196}, {\"precinct\": 43, \"Number of Complaints\": 772, \"Uniformed Officers\": 293, \"Normalize\": 2.63481228668942}, {\"precinct\": 44, \"Number of Complaints\": 1139, \"Uniformed Officers\": 358, \"Normalize\": 3.1815642458100557}, {\"precinct\": 45, \"Number of Complaints\": 223, \"Uniformed Officers\": 174, \"Normalize\": 1.2816091954022988}, {\"precinct\": 46, \"Number of Complaints\": 1120, \"Uniformed Officers\": 306, \"Normalize\": 3.6601307189542482}, {\"precinct\": 47, \"Number of Complaints\": 944, \"Uniformed Officers\": 280, \"Normalize\": 3.3714285714285714}, {\"precinct\": 48, \"Number of Complaints\": 662, \"Uniformed Officers\": 252, \"Normalize\": 2.626984126984127}, {\"precinct\": 49, \"Number of Complaints\": 321, \"Uniformed Officers\": 193, \"Normalize\": 1.6632124352331605}, {\"precinct\": 50, \"Number of Complaints\": 215, \"Uniformed Officers\": 133, \"Normalize\": 1.6165413533834587}, {\"precinct\": 52, \"Number of Complaints\": 759, \"Uniformed Officers\": 282, \"Normalize\": 2.6914893617021276}, {\"precinct\": 60, \"Number of Complaints\": 485, \"Uniformed Officers\": 202, \"Normalize\": 2.400990099009901}, {\"precinct\": 61, \"Number of Complaints\": 214, \"Uniformed Officers\": 167, \"Normalize\": 1.281437125748503}, {\"precinct\": 62, \"Number of Complaints\": 176, \"Uniformed Officers\": 154, \"Normalize\": 1.1428571428571428}, {\"precinct\": 63, \"Number of Complaints\": 274, \"Uniformed Officers\": 155, \"Normalize\": 1.767741935483871}, {\"precinct\": 66, \"Number of Complaints\": 89, \"Uniformed Officers\": 138, \"Normalize\": 0.644927536231884}, {\"precinct\": 67, \"Number of Complaints\": 1119, \"Uniformed Officers\": 333, \"Normalize\": 3.3603603603603602}, {\"precinct\": 68, \"Number of Complaints\": 227, \"Uniformed Officers\": 138, \"Normalize\": 1.644927536231884}, {\"precinct\": 69, \"Number of Complaints\": 488, \"Uniformed Officers\": 161, \"Normalize\": 3.031055900621118}, {\"precinct\": 70, \"Number of Complaints\": 713, \"Uniformed Officers\": 303, \"Normalize\": 2.3531353135313533}, {\"precinct\": 71, \"Number of Complaints\": 648, \"Uniformed Officers\": 216, \"Normalize\": 3.0}, {\"precinct\": 72, \"Number of Complaints\": 251, \"Uniformed Officers\": 179, \"Normalize\": 1.4022346368715084}, {\"precinct\": 73, \"Number of Complaints\": 1163, \"Uniformed Officers\": 275, \"Normalize\": 4.2290909090909095}, {\"precinct\": 75, \"Number of Complaints\": 2172, \"Uniformed Officers\": 399, \"Normalize\": 5.443609022556391}, {\"precinct\": 76, \"Number of Complaints\": 158, \"Uniformed Officers\": 139, \"Normalize\": 1.1366906474820144}, {\"precinct\": 77, \"Number of Complaints\": 950, \"Uniformed Officers\": 235, \"Normalize\": 4.042553191489362}, {\"precinct\": 78, \"Number of Complaints\": 118, \"Uniformed Officers\": 198, \"Normalize\": 0.5959595959595959}, {\"precinct\": 79, \"Number of Complaints\": 1062, \"Uniformed Officers\": 247, \"Normalize\": 4.299595141700405}, {\"precinct\": 81, \"Number of Complaints\": 806, \"Uniformed Officers\": 197, \"Normalize\": 4.091370558375634}, {\"precinct\": 83, \"Number of Complaints\": 648, \"Uniformed Officers\": 209, \"Normalize\": 3.1004784688995217}, {\"precinct\": 84, \"Number of Complaints\": 232, \"Uniformed Officers\": 221, \"Normalize\": 1.0497737556561086}, {\"precinct\": 88, \"Number of Complaints\": 229, \"Uniformed Officers\": 155, \"Normalize\": 1.4774193548387098}, {\"precinct\": 90, \"Number of Complaints\": 420, \"Uniformed Officers\": 185, \"Normalize\": 2.27027027027027}, {\"precinct\": 94, \"Number of Complaints\": 113, \"Uniformed Officers\": 142, \"Normalize\": 0.795774647887324}, {\"precinct\": 100, \"Number of Complaints\": 119, \"Uniformed Officers\": 145, \"Normalize\": 0.8206896551724138}, {\"precinct\": 101, \"Number of Complaints\": 595, \"Uniformed Officers\": 206, \"Normalize\": 2.8883495145631066}, {\"precinct\": 102, \"Number of Complaints\": 239, \"Uniformed Officers\": 209, \"Normalize\": 1.1435406698564594}, {\"precinct\": 103, \"Number of Complaints\": 572, \"Uniformed Officers\": 254, \"Normalize\": 2.251968503937008}, {\"precinct\": 104, \"Number of Complaints\": 220, \"Uniformed Officers\": 182, \"Normalize\": 1.2087912087912087}, {\"precinct\": 105, \"Number of Complaints\": 470, \"Uniformed Officers\": 310, \"Normalize\": 1.5161290322580645}, {\"precinct\": 106, \"Number of Complaints\": 205, \"Uniformed Officers\": 225, \"Normalize\": 0.9111111111111111}, {\"precinct\": 107, \"Number of Complaints\": 168, \"Uniformed Officers\": 197, \"Normalize\": 0.8527918781725888}, {\"precinct\": 108, \"Number of Complaints\": 131, \"Uniformed Officers\": 148, \"Normalize\": 0.8851351351351351}, {\"precinct\": 109, \"Number of Complaints\": 205, \"Uniformed Officers\": 292, \"Normalize\": 0.702054794520548}, {\"precinct\": 110, \"Number of Complaints\": 267, \"Uniformed Officers\": 211, \"Normalize\": 1.2654028436018958}, {\"precinct\": 111, \"Number of Complaints\": 37, \"Uniformed Officers\": 153, \"Normalize\": 0.24183006535947713}, {\"precinct\": 112, \"Number of Complaints\": 119, \"Uniformed Officers\": 144, \"Normalize\": 0.8263888888888888}, {\"precinct\": 113, \"Number of Complaints\": 704, \"Uniformed Officers\": 236, \"Normalize\": 2.983050847457627}, {\"precinct\": 114, \"Number of Complaints\": 380, \"Uniformed Officers\": 261, \"Normalize\": 1.4559386973180077}, {\"precinct\": 115, \"Number of Complaints\": 245, \"Uniformed Officers\": 234, \"Normalize\": 1.047008547008547}, {\"precinct\": 120, \"Number of Complaints\": 844, \"Uniformed Officers\": 311, \"Normalize\": 2.7138263665594855}, {\"precinct\": 121, \"Number of Complaints\": 366, \"Uniformed Officers\": 196, \"Normalize\": 1.8673469387755102}, {\"precinct\": 122, \"Number of Complaints\": 238, \"Uniformed Officers\": 195, \"Normalize\": 1.2205128205128206}, {\"precinct\": 123, \"Number of Complaints\": 112, \"Uniformed Officers\": 144, \"Normalize\": 0.7777777777777778}]}};\n",
       "const opt = {};\n",
       "const type = \"vega-lite\";\n",
       "const id = \"48a53ec3-e4f5-4f42-9677-4c44db93320d\";\n",
       "\n",
       "const output_area = this;\n",
       "\n",
       "require([\"nbextensions/jupyter-vega/index\"], function(vega) {\n",
       "  const target = document.createElement(\"div\");\n",
       "  target.id = id;\n",
       "  target.className = \"vega-embed\";\n",
       "\n",
       "  const style = document.createElement(\"style\");\n",
       "  style.textContent = [\n",
       "    \".vega-embed .error p {\",\n",
       "    \"  color: firebrick;\",\n",
       "    \"  font-size: 14px;\",\n",
       "    \"}\",\n",
       "  ].join(\"\\\\n\");\n",
       "\n",
       "  // element is a jQuery wrapped DOM element inside the output area\n",
       "  // see http://ipython.readthedocs.io/en/stable/api/generated/\\\n",
       "  // IPython.display.html#IPython.display.Javascript.__init__\n",
       "  element[0].appendChild(target);\n",
       "  element[0].appendChild(style);\n",
       "\n",
       "  vega.render(\"#\" + id, spec, type, opt, output_area);\n",
       "}, function (err) {\n",
       "  if (err.requireType !== \"scripterror\") {\n",
       "    throw(err);\n",
       "  }\n",
       "});\n"
      ],
      "text/plain": [
       "<vega.vegalite.VegaLite at 0x1e9f8c7fec8>"
      ]
     },
     "metadata": {
      "jupyter-vega": "#48a53ec3-e4f5-4f42-9677-4c44db93320d"
     },
     "output_type": "display_data"
    },
    {
     "data": {
      "text/plain": []
     },
     "execution_count": 89,
     "metadata": {},
     "output_type": "execute_result"
    },
    {
     "data": {
      "image/png": "[encoded data removed]"
     },
     "metadata": {
      "jupyter-vega": "#48a53ec3-e4f5-4f42-9677-4c44db93320d"
     },
     "output_type": "display_data"
    }
   ],
   "source": [
    "alt.Chart(precincts).mark_bar().encode(\n",
    "    x = 'precinct',\n",
    "    y = 'Normalize',\n",
    ")"
   ]
  },
  {
   "cell_type": "code",
   "execution_count": 90,
   "metadata": {},
   "outputs": [
    {
     "data": {
      "text/html": [
       "<div>\n",
       "<style scoped>\n",
       "    .dataframe tbody tr th:only-of-type {\n",
       "        vertical-align: middle;\n",
       "    }\n",
       "\n",
       "    .dataframe tbody tr th {\n",
       "        vertical-align: top;\n",
       "    }\n",
       "\n",
       "    .dataframe thead th {\n",
       "        text-align: right;\n",
       "    }\n",
       "</style>\n",
       "<table border=\"1\" class=\"dataframe\">\n",
       "  <thead>\n",
       "    <tr style=\"text-align: right;\">\n",
       "      <th></th>\n",
       "      <th>precinct</th>\n",
       "      <th>Number of Complaints</th>\n",
       "      <th>Uniformed Officers</th>\n",
       "      <th>Normalize</th>\n",
       "    </tr>\n",
       "  </thead>\n",
       "  <tbody>\n",
       "    <tr>\n",
       "      <td>0</td>\n",
       "      <td>1</td>\n",
       "      <td>174</td>\n",
       "      <td>190</td>\n",
       "      <td>0.915789</td>\n",
       "    </tr>\n",
       "    <tr>\n",
       "      <td>1</td>\n",
       "      <td>5</td>\n",
       "      <td>160</td>\n",
       "      <td>141</td>\n",
       "      <td>1.134752</td>\n",
       "    </tr>\n",
       "    <tr>\n",
       "      <td>2</td>\n",
       "      <td>6</td>\n",
       "      <td>175</td>\n",
       "      <td>164</td>\n",
       "      <td>1.067073</td>\n",
       "    </tr>\n",
       "    <tr>\n",
       "      <td>3</td>\n",
       "      <td>7</td>\n",
       "      <td>221</td>\n",
       "      <td>142</td>\n",
       "      <td>1.556338</td>\n",
       "    </tr>\n",
       "    <tr>\n",
       "      <td>4</td>\n",
       "      <td>9</td>\n",
       "      <td>266</td>\n",
       "      <td>178</td>\n",
       "      <td>1.494382</td>\n",
       "    </tr>\n",
       "    <tr>\n",
       "      <td>...</td>\n",
       "      <td>...</td>\n",
       "      <td>...</td>\n",
       "      <td>...</td>\n",
       "      <td>...</td>\n",
       "    </tr>\n",
       "    <tr>\n",
       "      <td>72</td>\n",
       "      <td>115</td>\n",
       "      <td>245</td>\n",
       "      <td>234</td>\n",
       "      <td>1.047009</td>\n",
       "    </tr>\n",
       "    <tr>\n",
       "      <td>73</td>\n",
       "      <td>120</td>\n",
       "      <td>844</td>\n",
       "      <td>311</td>\n",
       "      <td>2.713826</td>\n",
       "    </tr>\n",
       "    <tr>\n",
       "      <td>74</td>\n",
       "      <td>121</td>\n",
       "      <td>366</td>\n",
       "      <td>196</td>\n",
       "      <td>1.867347</td>\n",
       "    </tr>\n",
       "    <tr>\n",
       "      <td>75</td>\n",
       "      <td>122</td>\n",
       "      <td>238</td>\n",
       "      <td>195</td>\n",
       "      <td>1.220513</td>\n",
       "    </tr>\n",
       "    <tr>\n",
       "      <td>76</td>\n",
       "      <td>123</td>\n",
       "      <td>112</td>\n",
       "      <td>144</td>\n",
       "      <td>0.777778</td>\n",
       "    </tr>\n",
       "  </tbody>\n",
       "</table>\n",
       "<p>77 rows × 4 columns</p>\n",
       "</div>"
      ],
      "text/plain": [
       "    precinct  Number of Complaints  Uniformed Officers  Normalize\n",
       "0          1                   174                 190   0.915789\n",
       "1          5                   160                 141   1.134752\n",
       "2          6                   175                 164   1.067073\n",
       "3          7                   221                 142   1.556338\n",
       "4          9                   266                 178   1.494382\n",
       "..       ...                   ...                 ...        ...\n",
       "72       115                   245                 234   1.047009\n",
       "73       120                   844                 311   2.713826\n",
       "74       121                   366                 196   1.867347\n",
       "75       122                   238                 195   1.220513\n",
       "76       123                   112                 144   0.777778\n",
       "\n",
       "[77 rows x 4 columns]"
      ]
     },
     "execution_count": 90,
     "metadata": {},
     "output_type": "execute_result"
    }
   ],
   "source": [
    "precincts"
   ]
  },
  {
   "cell_type": "code",
   "execution_count": null,
   "metadata": {},
   "outputs": [],
   "source": []
  }
 ],
 "metadata": {
  "kernelspec": {
   "display_name": "Python 3",
   "language": "python",
   "name": "python3"
  },
  "language_info": {
   "codemirror_mode": {
    "name": "ipython",
    "version": 3
   },
   "file_extension": ".py",
   "mimetype": "text/x-python",
   "name": "python",
   "nbconvert_exporter": "python",
   "pygments_lexer": "ipython3",
   "version": "3.7.4"
  }
 },
 "nbformat": 4,
 "nbformat_minor": 2
}
