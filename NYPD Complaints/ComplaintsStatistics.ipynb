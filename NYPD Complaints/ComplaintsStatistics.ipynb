{
 "cells": [
  {
   "cell_type": "markdown",
   "metadata": {},
   "source": [
    "# NYPD Civilian Complaints"
   ]
  },
  {
   "cell_type": "markdown",
   "metadata": {},
   "source": [
    "# Data Sources"
   ]
  },
  {
   "cell_type": "markdown",
   "metadata": {},
   "source": [
    "Source for current number of Uniformed officers: https://council.nyc.gov/budget/wp-content/uploads/sites/54/2019/03/056-NYPD-2020.pdf<br>\n",
    "Civilian Complaints Dataset: https://www.propublica.org/datastore/dataset/civilian-complaints-against-new-york-city-police-officers<br>\n",
    "Police Reports Dataset: https://data.cityofnewyork.us/Public-Safety/NYPD-Complaint-Data-Current-Year-To-Date-/5uac-w243<br>\n",
    "Precinct Geographic Data: https://data.cityofnewyork.us/Public-Safety/Police-Precincts/78dh-3ptz<br>"
   ]
  },
  {
   "cell_type": "markdown",
   "metadata": {},
   "source": [
    "# Initialize"
   ]
  },
  {
   "cell_type": "code",
   "execution_count": 12,
   "metadata": {},
   "outputs": [
    {
     "data": {
      "text/plain": [
       "DataTransformerRegistry.enable('default')"
      ]
     },
     "execution_count": 12,
     "metadata": {},
     "output_type": "execute_result"
    }
   ],
   "source": [
    "import numpy as np\n",
    "import pandas as pd\n",
    "import matplotlib.pyplot as plt\n",
    "import altair as alt\n",
    "import folium\n",
    "import os\n",
    "import folium.plugins as plugins\n",
    "import geopandas as gpd\n",
    "\n",
    "alt.renderers.enable('notebook')\n",
    "alt.data_transformers.disable_max_rows()\n",
    "\n",
    "#Setup altair to save graphs to external file. This breaks Vega but is needed if notebook gets too large.\n",
    "\n",
    "#def json_dir(data, data_dir = 'altairdata'):\n",
    "    #os.makedirs(data_dir, exist_ok = True)\n",
    "    #return alt.pipe(data, alt.to_json(filename = data_dir + '/{prefix}-{hash}.{extension}'))\n",
    "#alt.data_transformers.register('json_dir', json_dir)\n",
    "#alt.data_transformers.enable('json_dir', data_dir = 'mydata')"
   ]
  },
  {
   "cell_type": "markdown",
   "metadata": {},
   "source": [
    "# Pull in data"
   ]
  },
  {
   "cell_type": "code",
   "execution_count": 13,
   "metadata": {},
   "outputs": [],
   "source": [
    "df = pd.read_csv('Complaints.csv')\n",
    "policeReports = pd.read_csv('NYPD_Complaint_Data_Current__Year_To_Date_.csv', low_memory = False)\n",
    "precinctMap = gpd.read_file('PolicePrecincts.geojson')"
   ]
  },
  {
   "cell_type": "markdown",
   "metadata": {},
   "source": [
    "# Clean Data"
   ]
  },
  {
   "cell_type": "code",
   "execution_count": 14,
   "metadata": {},
   "outputs": [],
   "source": [
    "df['complainant_ethnicity'] = df['complainant_ethnicity'].fillna('Unknown')\n",
    "df['command_at_incident'] = df['command_at_incident'].fillna('Unknown')\n",
    "df = df.replace({'precinct': {1000:22}})"
   ]
  },
  {
   "cell_type": "markdown",
   "metadata": {},
   "source": [
    "# Format Data"
   ]
  },
  {
   "cell_type": "code",
   "execution_count": 15,
   "metadata": {},
   "outputs": [],
   "source": [
    "# Join arrest report data with precinct outline data for folium\n",
    "geoPoliceReports = gpd.GeoDataFrame(policeReports, geometry = gpd.points_from_xy(policeReports.Longitude,policeReports.Latitude))\n",
    "geoPoliceReports.crs = precinctMap.crs\n",
    "geoPoliceReports = gpd.sjoin(geoPoliceReports,precinctMap,how = 'inner')"
   ]
  },
  {
   "cell_type": "code",
   "execution_count": 16,
   "metadata": {},
   "outputs": [],
   "source": [
    "# Start dataframe indexed by precincts to get data for each precinct\n",
    "precincts = pd.DataFrame(columns = ['precinct'])\n",
    "precincts['precinct'] = np.sort(df['precinct'].unique())\n",
    "precincts = precincts.join(df.groupby(['precinct']).size().to_frame(name = 'Number of Complaints'),on = 'precinct')\n",
    "\n",
    "# Setting up dict to attach number of uniformed officers to precinct\n",
    "keys = precincts['precinct'].unique()\n",
    "\n",
    "# Values for current number of Uniformed officers taken from NYPD preliminary budget report\n",
    "values = [190,141,164,142,178,162,190,307,141,294,207,\n",
    "         149,120,176,156,210,134,167,142,205,191,201,\n",
    "         284,186,221,293,358,174,306,280,252,193,133,\n",
    "         282,202,167,154,155,138,333,138,161,303,216,\n",
    "         179,275,399,139,235,198,247,197,209,221,155,\n",
    "         185,142,145,206,209,254,182,310,225,197,148,\n",
    "         292,211,153,144,236,261,234,311,196,195,144]"
   ]
  },
  {
   "cell_type": "code",
   "execution_count": 17,
   "metadata": {},
   "outputs": [],
   "source": [
    "# Function to attach number of uniformed officers to precinct\n",
    "UniformedDict = dict(zip(keys,values))\n",
    "def amtUniformed(precinct):\n",
    "    return UniformedDict[precinct]"
   ]
  },
  {
   "cell_type": "code",
   "execution_count": 18,
   "metadata": {},
   "outputs": [],
   "source": [
    "# Build out precinct dataframe\n",
    "precincts['Uniformed Officers'] = precincts['precinct']\n",
    "precincts['Uniformed Officers'] = precincts['Uniformed Officers'].apply(amtUniformed)\n",
    "precincts['Complaints per Officer'] = precincts['Number of Complaints'] / precincts['Uniformed Officers']"
   ]
  },
  {
   "cell_type": "code",
   "execution_count": 19,
   "metadata": {},
   "outputs": [],
   "source": [
    "# Get race statistics of different precincts using police report dataset\n",
    "minoritydf = pd.pivot_table(geoPoliceReports,\n",
    "                            values = ['Latitude'], \n",
    "                            index = ['precinct'], \n",
    "                            columns = ['VIC_RACE'], \n",
    "                            aggfunc = 'count')\n",
    "minoritydf['total'] = minoritydf.sum(1)\n",
    "minoritydf['minority total'] = minoritydf['Latitude'][['BLACK','BLACK HISPANIC','WHITE HISPANIC']].sum(1)\n",
    "minoritydf = minoritydf.drop(['Latitude'], axis = 1)\n",
    "minoritydf['ratio'] = minoritydf['minority total']/minoritydf['total']\n",
    "minoritydf = minoritydf.reset_index()\n",
    "\n",
    "# Get names of board outcomes and make dataframe for outcomes per precinct\n",
    "substantiatedCols = df['board_disposition'].unique()\n",
    "substantiatedCols = substantiatedCols[(substantiatedCols != 'Exonerated') & (substantiatedCols != 'Unsubstantiated')]\n",
    "outdf = pd.pivot_table(df,\n",
    "                       values = ['first_name'],\n",
    "                       index = ['precinct'],\n",
    "                       columns = ['board_disposition'],\n",
    "                       aggfunc = 'count')['first_name']\n",
    "outdf = outdf.assign(Substantiated = outdf[substantiatedCols].sum(1)).drop(substantiatedCols,1)\n",
    "\n",
    "# Make and clean dataframe for year range of complaints for each precinct\n",
    "yeardf = pd.pivot_table(df,\n",
    "                        values = ['year_received'],\n",
    "                        index = ['precinct'],\n",
    "                        aggfunc = ['min','max'])\n",
    "yeardf['min year'] = yeardf['min']['year_received']\n",
    "yeardf['max year'] = yeardf['max']['year_received']\n",
    "yeardf = yeardf.drop('min',1)\n",
    "yeardf = yeardf.drop('max',1)\n",
    "yeardf.columns = yeardf.columns.droplevel(1)\n",
    "\n",
    "# Dataframe of stats based on each officer\n",
    "uniqueIDdf = pd.pivot_table(df,\n",
    "                            values = ['first_name','year_received'], \n",
    "                            index = ['precinct','unique_mos_id'],\n",
    "                            aggfunc ={'first_name':'count','year_received':'max'}).sort_values(by = 'first_name')\n",
    "\n",
    "# Join all dataframes to precinct dataframe\n",
    "precincts = precincts.join(outdf, on = 'precinct', how = 'inner')\n",
    "precincts = precincts.join(yeardf, on = 'precinct', how = 'inner')\n",
    "\n",
    "precincts['precinct'] = precincts['precinct'].astype(str)"
   ]
  },
  {
   "cell_type": "markdown",
   "metadata": {},
   "source": [
    "# Map Data"
   ]
  },
  {
   "cell_type": "code",
   "execution_count": 20,
   "metadata": {},
   "outputs": [],
   "source": [
    "# Dictionary to hold graphs keyed on precinct\n",
    "graphsDict = {}\n",
    "\n",
    "# For every precinct create a graph\n",
    "for i in keys:\n",
    "    # Make a source dataframe using only that precincts complaints\n",
    "    source = df.loc[df['precinct'] == i]\n",
    "    # Find all the outcomes for those complaints\n",
    "    substantiatedCols = source['board_disposition'].unique()\n",
    "    substantiatedCols = substantiatedCols[(substantiatedCols != 'Exonerated') & (substantiatedCols != 'Unsubstantiated')]\n",
    "    # Get statistics for each officer's complaints in the precinct\n",
    "    precinctdf = pd.pivot_table(source,\n",
    "                                values = ['first_name'],\n",
    "                                index = ['unique_mos_id'],\n",
    "                                columns = ['board_disposition'],aggfunc = 'count')['first_name']\n",
    "    precinctdf = precinctdf.assign(Substantiated = precinctdf[substantiatedCols].sum(1)).drop(substantiatedCols,1)\n",
    "    precinctdf = precinctdf.fillna(0)\n",
    "    precinctdf['total'] = precinctdf['Exonerated'] + precinctdf['Unsubstantiated'] + precinctdf['Substantiated']\n",
    "    precinctdf['percent'] = precinctdf['Substantiated']/precinctdf['total']\n",
    "    precinctdf = precinctdf.reset_index()\n",
    "\n",
    "    # Update source dataframe\n",
    "    source = df.merge(precinctdf,on = 'unique_mos_id', how = 'inner')\n",
    "    \n",
    "    # Create selector for graph interaction\n",
    "    selector = alt.selection_single(empty = 'all', fields = ['unique_mos_id'])\n",
    "\n",
    "    # Define base graph and add selector\n",
    "    base = alt.Chart(source).properties(\n",
    "        width = 300,\n",
    "        height = 350\n",
    "    ).add_selection(selector)\n",
    "\n",
    "    # Make points graph\n",
    "    points = base.mark_point(filled = True, size = 25).encode(\n",
    "        x = alt.X('total:Q', axis = alt.Axis(title = 'Total number of complaints at precinct')),\n",
    "        y = alt.Y('percent:Q', axis = alt.Axis(title = 'Percentage of complaints that were substantiated')),\n",
    "        tooltip = ['first_name','last_name','Substantiated','Exonerated','Unsubstantiated'],\n",
    "    )\n",
    "\n",
    "    # Make histogram and add selector\n",
    "    hists = base.mark_bar(opacity = 0.5, thickness = 100).encode(\n",
    "        x = alt.X('year_received:O', axis = alt.Axis(title = 'Year complaints were received')),\n",
    "        y = alt.Y('count(year_received)', axis = alt.Axis(title = 'Number of complaints')),\n",
    "        color = 'board_disposition'\n",
    "    ).transform_filter(\n",
    "        selector\n",
    "    )\n",
    "    \n",
    "    # Add graphs to dictionary\n",
    "    graphsDict[i] = points|hists"
   ]
  },
  {
   "cell_type": "code",
   "execution_count": 21,
   "metadata": {},
   "outputs": [
    {
     "data": {
      "text/plain": [
       "<folium.map.LayerControl at 0x215b0d70348>"
      ]
     },
     "execution_count": 21,
     "metadata": {},
     "output_type": "execute_result"
    }
   ],
   "source": [
    "# Define Folium map and initialize it\n",
    "choroplethGraph = folium.Map([40.719435, -74.001930], max_zoom = 12)\n",
    "# Define folium layers for graphs and descriptions\n",
    "precinctLayer = folium.FeatureGroup(name = 'Graphs')\n",
    "descriptionLayer = folium.FeatureGroup(name = 'Descriptions', show = False)\n",
    "# Make the layers transparent so they don't change the choropleth colors\n",
    "transparent = {'fillColor': '#00000000', 'color': '#00000000'}\n",
    "# Make a choropleth based on police report data\n",
    "folium.Choropleth(\n",
    "    geo_data = precinctMap,\n",
    "    data = minoritydf,\n",
    "    columns = ['precinct', 'ratio'],\n",
    "    key_on = 'feature.properties.precinct',\n",
    "    fill_color = 'BuPu',\n",
    "    fill_opacity = 0.7,\n",
    "    line_opacity = 0.2,\n",
    "    control = False,\n",
    "    legend_name = 'Ratio of Police Reports made by Minorities to Overall Police Reports').add_to(choroplethGraph)\n",
    "\n",
    "# Loop through precincts and attach descriptions and graphs to precinct geography\n",
    "for i in keys:\n",
    "    gsP = folium.GeoJson(precinctMap.loc[precinctMap['precinct'] == str(i)])\n",
    "    folium.Popup(html = str(i), max_width = 900, sticky = True).add_child(\n",
    "        folium.VegaLite(graphsDict[i], width = 900, height = 400)).add_to(gsP)\n",
    "    precinctLayer.add_child(gsP)\n",
    "    \n",
    "    datarow = precincts.loc[precincts['precinct'] == str(i)].reset_index()\n",
    "    officerrow = uniqueIDdf.loc[i]\n",
    "    gs = folium.GeoJson(precinctMap.loc[precinctMap['precinct'] == str(i)], style_function = lambda x: transparent)\n",
    "    precinctlabel = i\n",
    "    officerslabel = datarow['Uniformed Officers'][0]\n",
    "    complaintslabel = datarow['Number of Complaints'][0]\n",
    "    substantiatedlabel = datarow['Substantiated'][0]\n",
    "    officersreceivelabel = uniqueIDdf.loc[i]['first_name'].size\n",
    "    yearmin = datarow['min year'][0]\n",
    "    yearmax = datarow['max year'][0]\n",
    "    maxcomplaints = uniqueIDdf.loc[i].iloc[-1]['first_name']\n",
    "    popuphtml = \"\"\"\n",
    "            <html>\n",
    "                <body>\n",
    "                    <h1>Precinct %s</h1>\n",
    "                    <p>Number of Current Uniformed Officers: %s</p>\n",
    "                    <p>Number of Complaints: %s</p>\n",
    "                    <p>Number of Substantiated Complaints: %s</p>\n",
    "                    <p>Number of Officers who have Received Complaints at Precinct %s: %s</p>\n",
    "                    <p>Years of Complaints: %s - %s</p>\n",
    "                    <p>Max Complaints for a Single Officer: %s</p>\n",
    "                </body>\n",
    "            </html>\"\"\"%(precinctlabel, str(officerslabel), str(complaintslabel), str(substantiatedlabel), precinctlabel, \n",
    "                        str(officersreceivelabel), str(yearmin), str(yearmax), str(maxcomplaints))\n",
    "    folium.Popup(popuphtml,max_width = 400, sticky = False).add_to(gs)\n",
    "    gs.add_to(descriptionLayer)\n",
    "    \n",
    "    \n",
    "# Add groups to folium map    \n",
    "choroplethGraph.add_child(precinctLayer)\n",
    "choroplethGraph.add_child(descriptionLayer)\n",
    "folium.LayerControl().add_to(choroplethGraph)"
   ]
  },
  {
   "cell_type": "code",
   "execution_count": 22,
   "metadata": {},
   "outputs": [],
   "source": [
    "# Save map to external file\n",
    "choroplethGraph.save('ChoroplethGraph.html')"
   ]
  }
 ],
 "metadata": {
  "kernelspec": {
   "display_name": "Python 3",
   "language": "python",
   "name": "python3"
  },
  "language_info": {
   "codemirror_mode": {
    "name": "ipython",
    "version": 3
   },
   "file_extension": ".py",
   "mimetype": "text/x-python",
   "name": "python",
   "nbconvert_exporter": "python",
   "pygments_lexer": "ipython3",
   "version": "3.7.4"
  }
 },
 "nbformat": 4,
 "nbformat_minor": 2
}
