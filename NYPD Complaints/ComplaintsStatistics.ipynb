{
 "cells": [
  {
   "cell_type": "code",
   "execution_count": 31,
   "metadata": {},
   "outputs": [],
   "source": [
    "import numpy as np\n",
    "import pandas as pd\n",
    "import matplotlib.pyplot as plt\n",
    "import altair as alt\n",
    "import folium\n",
    "import os\n",
    "import folium.plugins as plugins\n",
    "import geopandas as gpd"
   ]
  },
  {
   "cell_type": "code",
   "execution_count": 32,
   "metadata": {},
   "outputs": [
    {
     "data": {
      "text/plain": [
       "DataTransformerRegistry.enable('default')"
      ]
     },
     "execution_count": 32,
     "metadata": {},
     "output_type": "execute_result"
    }
   ],
   "source": [
    "alt.renderers.enable('notebook')\n",
    "alt.data_transformers.disable_max_rows()\n",
    "\n",
    "#Setup altair to save graphs to external file. This breaks Vega but is needed if notebook gets too large.\n",
    "\n",
    "#def json_dir(data, data_dir = 'altairdata'):\n",
    "    #os.makedirs(data_dir, exist_ok = True)\n",
    "    #return alt.pipe(data, alt.to_json(filename = data_dir + '/{prefix}-{hash}.{extension}'))\n",
    "#alt.data_transformers.register('json_dir', json_dir)\n",
    "#alt.data_transformers.enable('json_dir', data_dir = 'mydata')"
   ]
  },
  {
   "cell_type": "code",
   "execution_count": 33,
   "metadata": {},
   "outputs": [
    {
     "name": "stderr",
     "output_type": "stream",
     "text": [
      "C:\\Users\\owenw\\Anaconda3\\lib\\site-packages\\IPython\\core\\interactiveshell.py:3058: DtypeWarning: Columns (8,16,22) have mixed types. Specify dtype option on import or set low_memory=False.\n",
      "  interactivity=interactivity, compiler=compiler, result=result)\n"
     ]
    }
   ],
   "source": [
    "df = pd.read_csv('Complaints.csv')\n",
    "arrestReports = pd.read_csv('NYPD_Complaint_Data_Current__Year_To_Date_.csv')\n",
    "precinctMap = gpd.read_file('PolicePrecincts.geojson')\n",
    "df['complainant_ethnicity'] = df['complainant_ethnicity'].fillna('Unknown')\n",
    "df['command_at_incident'] = df['command_at_incident'].fillna('Unknown')\n",
    "df = df.replace({'precinct': {1000:22}})"
   ]
  },
  {
   "cell_type": "code",
   "execution_count": 34,
   "metadata": {},
   "outputs": [],
   "source": [
    "arrestReports = arrestReports[['VIC_RACE','VIC_AGE_GROUP','Latitude','Longitude']]\n",
    "arrestReports = arrestReports.drop(arrestReports[arrestReports['VIC_RACE'] == 'UNKNOWN'].index).reset_index()\n",
    "geoArrestReports = gpd.GeoDataFrame(arrestReports, geometry = gpd.points_from_xy(arrestReports.Longitude,arrestReports.Latitude))"
   ]
  },
  {
   "cell_type": "code",
   "execution_count": 35,
   "metadata": {},
   "outputs": [],
   "source": [
    "geoArrestReports.crs = precinctMap.crs\n",
    "geoArrestReports = gpd.sjoin(geoArrestReports,precinctMap,how = 'inner')"
   ]
  },
  {
   "cell_type": "code",
   "execution_count": 36,
   "metadata": {},
   "outputs": [],
   "source": [
    "precincts = pd.DataFrame(columns = ['precinct'])\n",
    "precincts['precinct'] = np.sort(df['precinct'].unique())\n",
    "precincts = precincts.join(df.groupby(['precinct']).size().to_frame(name = 'Number of Complaints'),on = 'precinct')\n",
    "keys = precincts['precinct'].unique()\n",
    "values = [190,141,164,142,178,162,190,307,141,294,207,\n",
    "         149,120,176,156,210,134,167,142,205,191,201,\n",
    "         284,186,221,293,358,174,306,280,252,193,133,\n",
    "         282,202,167,154,155,138,333,138,161,303,216,\n",
    "         179,275,399,139,235,198,247,197,209,221,155,\n",
    "         185,142,145,206,209,254,182,310,225,197,148,\n",
    "         292,211,153,144,236,261,234,311,196,195,144]\n",
    "substantiatedCols = ['Substantiated (Charges)','Substantiated (Command Discipline A)',\n",
    "       'Substantiated (Formalized Training)',\n",
    "       'Substantiated (Command Lvl Instructions)',\n",
    "       'Substantiated (Instructions)',\n",
    "       'Substantiated (Command Discipline)',\n",
    "       'Substantiated (Command Discipline B)',\n",
    "       'Substantiated (No Recommendations)',\n",
    "       'Substantiated (MOS Unidentified)']"
   ]
  },
  {
   "cell_type": "code",
   "execution_count": 38,
   "metadata": {},
   "outputs": [],
   "source": [
    "UniformedDict = dict(zip(keys,values))\n",
    "def amtUniformed(precinct):\n",
    "    return UniformedDict[precinct]"
   ]
  },
  {
   "cell_type": "code",
   "execution_count": 39,
   "metadata": {},
   "outputs": [],
   "source": [
    "precincts['Uniformed Officers'] = precincts['precinct']\n",
    "precincts['Uniformed Officers'] = precincts['Uniformed Officers'].apply(amtUniformed)\n",
    "precincts['Complaints per Officer'] = precincts['Number of Complaints'] / precincts['Uniformed Officers']"
   ]
  },
  {
   "cell_type": "code",
   "execution_count": 40,
   "metadata": {},
   "outputs": [
    {
     "name": "stderr",
     "output_type": "stream",
     "text": [
      "C:\\Users\\owenw\\Anaconda3\\lib\\site-packages\\pandas\\core\\reshape\\merge.py:617: UserWarning: merging between different levels can give an unintended result (1 levels on the left, 2 on the right)\n",
      "  warnings.warn(msg, UserWarning)\n"
     ]
    }
   ],
   "source": [
    "minoritydf = pd.pivot_table(geoArrestReports,values = ['Latitude'], index = ['precinct'], columns = ['VIC_RACE'], aggfunc = 'count')\n",
    "minoritydf['total'] = minoritydf.sum(1)\n",
    "minoritydf['minority total'] = minoritydf['Latitude'][['BLACK','BLACK HISPANIC','WHITE HISPANIC']].sum(1)\n",
    "minoritydf = minoritydf.drop(['Latitude'], axis = 1)\n",
    "minoritydf['ratio'] = minoritydf['minority total']/minoritydf['total']\n",
    "minoritydf = minoritydf.reset_index()\n",
    "\n",
    "outdf = pd.pivot_table(df,values = ['first_name'],index = ['precinct'],columns = ['board_disposition'],aggfunc = 'count')['first_name']\n",
    "outdf = outdf.assign(Substantiated = outdf[substantiatedCols].sum(1)).drop(substantiatedCols,1)\n",
    "\n",
    "yeardf = pd.pivot_table(df,values = ['year_received'],index = ['precinct'],aggfunc = ['min','max'])\n",
    "\n",
    "uniqueIDdf = pd.pivot_table(df,values = ['first_name','year_received'], \n",
    "                            index = ['precinct','unique_mos_id'],\n",
    "                            aggfunc ={'first_name':'count','year_received':'max'}).sort_values(by = 'first_name')\n",
    "\n",
    "precincts = precincts.join(outdf, on = 'precinct', how = 'inner')\n",
    "precincts = precincts.join(yeardf, on = 'precinct', how = 'inner')\n",
    "\n",
    "precincts['precinct'] = precincts['precinct'].astype(str)"
   ]
  },
  {
   "cell_type": "code",
   "execution_count": 41,
   "metadata": {},
   "outputs": [],
   "source": [
    "descriptionDict = {}\n",
    "\n",
    "# Same as above but showing the top crimes and arrest descriptions for each zip\n",
    "for i in keys:\n",
    "    source = df.loc[df['precinct'] == i]\n",
    "    substantiatedCols = source['board_disposition'].unique()\n",
    "    substantiatedCols = substantiatedCols[(substantiatedCols != 'Exonerated') & (substantiatedCols != 'Unsubstantiated')]\n",
    "    precinctdf = pd.pivot_table(source,\n",
    "              values = ['first_name'],\n",
    "              index = ['unique_mos_id'],\n",
    "              columns = ['board_disposition'],aggfunc = 'count')['first_name']\n",
    "    precinctdf = precinctdf.assign(Substantiated = precinctdf[substantiatedCols].sum(1)).drop(substantiatedCols,1)\n",
    "    precinctdf = precinctdf.fillna(0)\n",
    "    precinctdf['total'] = precinctdf['Exonerated'] + precinctdf['Unsubstantiated'] + precinctdf['Substantiated']\n",
    "    precinctdf['percent'] = precinctdf['Substantiated']/precinctdf['total']\n",
    "    precinctdf = precinctdf.reset_index()\n",
    "\n",
    "    source = df.merge(precinctdf,on = 'unique_mos_id', how = 'inner')\n",
    "\n",
    "    selector = alt.selection_single(empty = 'all', fields = ['unique_mos_id'])\n",
    "\n",
    "    base = alt.Chart(source).properties(\n",
    "        width = 300,\n",
    "        height = 350\n",
    "    ).add_selection(selector)\n",
    "\n",
    "    points = base.mark_point(filled = True, size = 20).encode(\n",
    "        x = alt.X('total:Q', axis = alt.Axis(title = 'Total number of complaints at precinct')),\n",
    "        y = alt.Y('percent:Q', axis = alt.Axis(title = 'Percentage of complaints that were substantiated')),\n",
    "        tooltip = ['first_name','last_name','Substantiated','Exonerated','Unsubstantiated'],\n",
    "    )\n",
    "\n",
    "    hists = base.mark_bar(opacity = 0.5, thickness = 100).encode(\n",
    "        x = alt.X('year_received:O', axis = alt.Axis(title = 'Year complaints were received')),\n",
    "        y = alt.Y('count(year_received)', axis = alt.Axis(title = 'Number of complaints')),\n",
    "        color = 'board_disposition'\n",
    "    ).transform_filter(\n",
    "        selector\n",
    "    )\n",
    "    \n",
    "    descriptionDict[i] = points|hists"
   ]
  },
  {
   "cell_type": "code",
   "execution_count": 44,
   "metadata": {},
   "outputs": [
    {
     "data": {
      "text/plain": [
       "<folium.map.LayerControl at 0x294a2e76b88>"
      ]
     },
     "execution_count": 44,
     "metadata": {},
     "output_type": "execute_result"
    }
   ],
   "source": [
    "# Very similar process to the labeled choropleth above but using vegalite and with more containers\n",
    "choroplethGraph = folium.Map([40.719435, -74.001930], max_zoom = 12)\n",
    "precinctLayer = folium.FeatureGroup(name = 'Graphs')\n",
    "descriptionLayer = folium.FeatureGroup(name = 'Descriptions', show = False)\n",
    "transparent = {'fillColor': '#00000000', 'color': '#00000000'}\n",
    "folium.Choropleth(\n",
    "    geo_data = precinctMap,\n",
    "    name = 'Minority Ratio',\n",
    "    data = minoritydf,\n",
    "    columns = ['precinct', 'ratio'],\n",
    "    key_on = 'feature.properties.precinct',\n",
    "    fill_color = 'BuPu',\n",
    "    fill_opacity = 0.7,\n",
    "    line_opacity = 0.2,\n",
    "    legend_name = 'Minority Ratio').add_to(choroplethGraph)\n",
    "\n",
    "for i in keys:\n",
    "    gsP = folium.GeoJson(precinctMap.loc[precinctMap['precinct'] == str(i)])\n",
    "    folium.Popup(html = str(i), max_width = 800, sticky = True).add_child(\n",
    "        folium.VegaLite(descriptionDict[i], width = 800, height = 400)).add_to(gsP)\n",
    "    precinctLayer.add_child(gsP)\n",
    "    \n",
    "    datarow = precincts.loc[precincts['precinct'] == str(i)].reset_index()\n",
    "    officerrow = uniqueIDdf.loc[i]\n",
    "    gs = folium.GeoJson(precinctMap.loc[precinctMap['precinct'] == str(i)], style_function = lambda x: transparent)\n",
    "    precinctlabel = i\n",
    "    officerslabel = datarow['Uniformed Officers'][0]\n",
    "    complaintslabel = datarow['Number of Complaints'][0]\n",
    "    substantiatedlabel = datarow['Substantiated'][0]\n",
    "    officersreceivelabel = uniqueIDdf.loc[i]['first_name'].size\n",
    "    yearmin = datarow[precincts.columns[7]][0]\n",
    "    yearmax = datarow[precincts.columns[8]][0]\n",
    "    maxcomplaints = uniqueIDdf.loc[i].iloc[-1]['first_name']\n",
    "    popuphtml = \"\"\"\n",
    "            <html>\n",
    "                <body>\n",
    "                    <h1>%s</h1>\n",
    "                    <p>Number of Uniformed Officers: %s</p>\n",
    "                    <p>Number of Complaints: %s</p>\n",
    "                    <p>Number of Substantiated Complaints: %s</p>\n",
    "                    <p>Number of Officers who received complaints: %s</p>\n",
    "                    <p>Years of Complaints: %s - %s</p>\n",
    "                    <p>Max complaints for a Single Officer: %s</p>\n",
    "                </body>\n",
    "            </html>\"\"\"%(precinctlabel, str(officerslabel), str(complaintslabel), str(substantiatedlabel), \n",
    "                        str(officersreceivelabel), str(yearmin), str(yearmax), str(maxcomplaints))\n",
    "    folium.Popup(popuphtml,max_width = 250, sticky = True).add_to(gs)\n",
    "    gs.add_to(descriptionLayer)\n",
    "    \n",
    "    \n",
    "    \n",
    "choroplethGraph.add_child(precinctLayer)\n",
    "choroplethGraph.add_child(descriptionLayer)\n",
    "folium.LayerControl().add_to(choroplethGraph)"
   ]
  },
  {
   "cell_type": "code",
   "execution_count": 45,
   "metadata": {},
   "outputs": [],
   "source": [
    "choroplethGraph.save('ChoroplethGraph.html')"
   ]
  },
  {
   "cell_type": "code",
   "execution_count": null,
   "metadata": {},
   "outputs": [],
   "source": []
  }
 ],
 "metadata": {
  "kernelspec": {
   "display_name": "Python 3",
   "language": "python",
   "name": "python3"
  },
  "language_info": {
   "codemirror_mode": {
    "name": "ipython",
    "version": 3
   },
   "file_extension": ".py",
   "mimetype": "text/x-python",
   "name": "python",
   "nbconvert_exporter": "python",
   "pygments_lexer": "ipython3",
   "version": "3.7.4"
  }
 },
 "nbformat": 4,
 "nbformat_minor": 2
}
